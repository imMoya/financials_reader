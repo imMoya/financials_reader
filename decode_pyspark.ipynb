{
 "cells": [
  {
   "cell_type": "code",
   "execution_count": 22,
   "id": "7e0f336c-e428-4734-bc2a-0dea39445981",
   "metadata": {},
   "outputs": [],
   "source": [
    "import json, time\n",
    "import pyspark\n",
    "import os"
   ]
  },
  {
   "cell_type": "code",
   "execution_count": 23,
   "id": "af1c4cbd-8df7-4cfe-b6e6-5e07cefc19e4",
   "metadata": {},
   "outputs": [],
   "source": [
    "from pyspark.sql.types import DataType, BooleanType, NullType, IntegerType, StringType, MapType"
   ]
  },
  {
   "cell_type": "code",
   "execution_count": 24,
   "id": "28504334-dcf5-455d-8f4c-af4324e37809",
   "metadata": {},
   "outputs": [],
   "source": [
    "from pyspark.sql.functions import udf, explode"
   ]
  },
  {
   "cell_type": "markdown",
   "id": "1f312f63-d4d0-411e-acc3-dd91b9c4f496",
   "metadata": {},
   "source": [
    "### Getting file names"
   ]
  },
  {
   "cell_type": "code",
   "execution_count": 25,
   "id": "617297fd-c3a8-41ef-b85b-3f6530080ca7",
   "metadata": {},
   "outputs": [],
   "source": [
    "DIR = 'archive'\n",
    "dir_list = []\n",
    "dir_list += [os.path.join(DIR,file) for file in os.listdir(DIR) if os.path.isdir(os.path.join(DIR, file))]\n",
    "dir_list.sort()"
   ]
  },
  {
   "cell_type": "code",
   "execution_count": 26,
   "id": "3586fcc7-8f21-44d4-bb7e-29da75e3a6d1",
   "metadata": {},
   "outputs": [],
   "source": [
    "# Get latest quarter\n",
    "quarter_folder = dir_list[-2]"
   ]
  },
  {
   "cell_type": "code",
   "execution_count": 27,
   "id": "b66cc132-c087-4fae-b2c5-1ae2c70ea7cd",
   "metadata": {},
   "outputs": [],
   "source": [
    "json_files = []\n",
    "json_files += [os.path.join(quarter_folder, file) for file in os.listdir(quarter_folder)]"
   ]
  },
  {
   "cell_type": "code",
   "execution_count": 28,
   "id": "72ae4c33-bff6-424c-bf57-5078de13e75b",
   "metadata": {},
   "outputs": [
    {
     "data": {
      "text/plain": [
       "'archive/2022.QTR2/0001493152-22-013349.json'"
      ]
     },
     "execution_count": 28,
     "metadata": {},
     "output_type": "execute_result"
    }
   ],
   "source": [
    "json_file = json_files[0]\n",
    "json_file"
   ]
  },
  {
   "cell_type": "markdown",
   "id": "6bf194c3-3a47-444d-9836-28483556e24e",
   "metadata": {},
   "source": [
    "### Initialize PySpark session"
   ]
  },
  {
   "cell_type": "code",
   "execution_count": 29,
   "id": "73e15d52-e5da-479a-9f5c-194a8f6e4795",
   "metadata": {},
   "outputs": [],
   "source": [
    "spark = pyspark.sql.SparkSession.builder \\\n",
    "    .appName(\"Decode_json_files\") \\\n",
    "    .config(\"spark.some.config.option\", \"some-value\") \\\n",
    "    .getOrCreate()"
   ]
  },
  {
   "cell_type": "code",
   "execution_count": 30,
   "id": "702e0477-e8db-4788-9beb-648a1a259385",
   "metadata": {},
   "outputs": [
    {
     "name": "stdout",
     "output_type": "stream",
     "text": [
      "CPU times: user 3 µs, sys: 1 µs, total: 4 µs\n",
      "Wall time: 6.2 µs\n"
     ]
    }
   ],
   "source": [
    "%time\n",
    "df = spark.read.option(\"multiline\", \"true\").json(json_file)"
   ]
  },
  {
   "cell_type": "code",
   "execution_count": 18,
   "id": "63ff6867-d32f-4b4a-9655-f4a5bed48374",
   "metadata": {},
   "outputs": [
    {
     "name": "stdout",
     "output_type": "stream",
     "text": [
      "root\n",
      " |-- data: struct (nullable = true)\n",
      " |    |-- bs: array (nullable = true)\n",
      " |    |    |-- element: struct (containsNull = true)\n",
      " |    |    |    |-- concept: string (nullable = true)\n",
      " |    |    |    |-- label: string (nullable = true)\n",
      " |    |    |    |-- unit: string (nullable = true)\n",
      " |    |    |    |-- value: string (nullable = true)\n",
      " |    |-- cf: array (nullable = true)\n",
      " |    |    |-- element: struct (containsNull = true)\n",
      " |    |    |    |-- concept: string (nullable = true)\n",
      " |    |    |    |-- label: string (nullable = true)\n",
      " |    |    |    |-- unit: string (nullable = true)\n",
      " |    |    |    |-- value: string (nullable = true)\n",
      " |    |-- ic: array (nullable = true)\n",
      " |    |    |-- element: struct (containsNull = true)\n",
      " |    |    |    |-- concept: string (nullable = true)\n",
      " |    |    |    |-- label: string (nullable = true)\n",
      " |    |    |    |-- unit: string (nullable = true)\n",
      " |    |    |    |-- value: string (nullable = true)\n",
      " |-- endDate: string (nullable = true)\n",
      " |-- quarter: string (nullable = true)\n",
      " |-- startDate: string (nullable = true)\n",
      " |-- symbol: string (nullable = true)\n",
      " |-- year: string (nullable = true)\n",
      "\n"
     ]
    }
   ],
   "source": [
    "df.printSchema()"
   ]
  },
  {
   "cell_type": "markdown",
   "id": "d9bf1c10-9be0-4de9-9b3a-bb1e8aacdee1",
   "metadata": {},
   "source": [
    "### Balance sheet spark dataframe"
   ]
  },
  {
   "cell_type": "code",
   "execution_count": 19,
   "id": "3d9fe05b-c058-485e-ae87-0d2ade67dded",
   "metadata": {},
   "outputs": [],
   "source": [
    "df_bs = df.withColumn(\"bs\", explode('data.bs')).select('bs')"
   ]
  },
  {
   "cell_type": "code",
   "execution_count": 20,
   "id": "8dbc8d1e-d555-48e4-91c6-1b781be4f58e",
   "metadata": {},
   "outputs": [
    {
     "name": "stdout",
     "output_type": "stream",
     "text": [
      "root\n",
      " |-- bs: struct (nullable = true)\n",
      " |    |-- concept: string (nullable = true)\n",
      " |    |-- label: string (nullable = true)\n",
      " |    |-- unit: string (nullable = true)\n",
      " |    |-- value: string (nullable = true)\n",
      "\n"
     ]
    }
   ],
   "source": [
    "df_bs.printSchema()"
   ]
  },
  {
   "cell_type": "code",
   "execution_count": 21,
   "id": "887627ce-6972-4fcf-9f02-735fd729ca1d",
   "metadata": {},
   "outputs": [
    {
     "name": "stdout",
     "output_type": "stream",
     "text": [
      "+--------------------+--------------------+----+----------+\n",
      "|             concept|               label|unit|     value|\n",
      "+--------------------+--------------------+----+----------+\n",
      "|       AssetsCurrent|Total current assets| usd|  21649936|\n",
      "|    CommonStockValue|                    | usd|    116395|\n",
      "| PreferredStockValue|                    | usd|   2656713|\n",
      "|LiabilitiesAndSto...|Total liabilities...| usd|  22203742|\n",
      "|OperatingLeaseLia...|                    | usd|    192535|\n",
      "|PrepaidExpenseAnd...|                    | usd|    277473|\n",
      "|              Assets|        Total assets| usd|  22203742|\n",
      "| NotesPayableCurrent|                    | usd|    122175|\n",
      "| NotesPayableCurrent|                    | usd|    122175|\n",
      "|  StockholdersEquity|Total shareholder...| usd|  20541052|\n",
      "|  StockholdersEquity|Total shareholder...| usd|  20541052|\n",
      "|AdditionalPaidInC...|                    | usd| 195077466|\n",
      "|CashAndCashEquiva...|                    | usd|  21372463|\n",
      "|OtherReceivablesN...|                    | usd|       N/A|\n",
      "|PropertyPlantAndE...|                    | usd|    121845|\n",
      "|LiabilitiesNoncur...|Total long-term l...| usd|    253928|\n",
      "|RetainedEarningsA...|                    | usd|-177309522|\n",
      "|RetainedEarningsA...|                    | usd|-177309522|\n",
      "|OperatingLeaseRig...|                    | usd|    431961|\n",
      "|  LiabilitiesCurrent|Total current lia...| usd|   1408762|\n",
      "+--------------------+--------------------+----+----------+\n",
      "only showing top 20 rows\n",
      "\n"
     ]
    }
   ],
   "source": [
    "df_bs.select('bs.concept', 'bs.label', 'bs.unit', 'bs.value').show()"
   ]
  },
  {
   "cell_type": "code",
   "execution_count": null,
   "id": "d27de1e5-7e78-4cdd-9023-389c3ca77b9f",
   "metadata": {},
   "outputs": [],
   "source": []
  }
 ],
 "metadata": {
  "kernelspec": {
   "display_name": "pyspark-env",
   "language": "python",
   "name": "pyspark-env"
  },
  "language_info": {
   "codemirror_mode": {
    "name": "ipython",
    "version": 3
   },
   "file_extension": ".py",
   "mimetype": "text/x-python",
   "name": "python",
   "nbconvert_exporter": "python",
   "pygments_lexer": "ipython3",
   "version": "3.7.12"
  }
 },
 "nbformat": 4,
 "nbformat_minor": 5
}
